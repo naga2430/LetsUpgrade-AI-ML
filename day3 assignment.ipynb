{
 "cells": [
  {
   "cell_type": "code",
   "execution_count": 19,
   "metadata": {},
   "outputs": [
    {
     "name": "stdout",
     "output_type": "stream",
     "text": [
      "The value of x after swapping: 10\n",
      "The value of y after swapping: 5\n"
     ]
    }
   ],
   "source": [
    "# 3.Python program to swap two variables\n",
    "\n",
    "x = 5\n",
    "y = 10\n",
    "\n",
    "# To take inputs from the user\n",
    "#x = input('Enter value of x: ')\n",
    "#y = input('Enter value of y: ')\n",
    "\n",
    "# create a temporary variable and swap the values\n",
    "temp = x\n",
    "x = y\n",
    "y = temp\n",
    "\n",
    "print('The value of x after swapping: {}'.format(x))\n",
    "print('The value of y after swapping: {}'.format(y))"
   ]
  },
  {
   "cell_type": "code",
   "execution_count": 3,
   "metadata": {},
   "outputs": [
    {
     "name": "stdout",
     "output_type": "stream",
     "text": [
      "After Swapping: x = 5  y = 10\n"
     ]
    }
   ],
   "source": [
    "# 4.Python program to swap two variables\n",
    "x = 10\n",
    "y = 5\n",
    "   \n",
    "# Code to swap 'x' and 'y' \n",
    "  \n",
    "# x now becomes 15 \n",
    "x = x + y   \n",
    "  \n",
    "# y becomes 10 \n",
    "y = x - y  \n",
    "  \n",
    "# x becomes 5 \n",
    "x = x - y   \n",
    "print(\"After Swapping: x =\", x, \" y =\", y);"
   ]
  },
  {
   "cell_type": "code",
   "execution_count": 4,
   "metadata": {},
   "outputs": [
    {
     "name": "stdout",
     "output_type": "stream",
     "text": [
      "Temperature in Kelvin ( K ) = 311.278\n"
     ]
    }
   ],
   "source": [
    "# Python program to convert temperature from \n",
    "# Fahrenheit to Kelvin \n",
    "  \n",
    "# Function to convert temperature \n",
    "def Fahrenheit_to_Kelvin(F): \n",
    "    return 273.5 + ((F - 32.0) * (5.0/9.0)) \n",
    "  \n",
    "# Driver function \n",
    "F = 100\n",
    "print(\"Temperature in Kelvin ( K ) = {:.3f}\" \n",
    "            .format(Fahrenheit_to_Kelvin( F )))"
   ]
  },
  {
   "cell_type": "code",
   "execution_count": 20,
   "metadata": {},
   "outputs": [
    {
     "name": "stdout",
     "output_type": "stream",
     "text": [
      "5 is of type <class 'int'>\n",
      "2.0 is of type <class 'float'>\n",
      "(1+2j) is complex number? True\n"
     ]
    }
   ],
   "source": [
    "# 6. data types\n",
    "a = 5\n",
    "print(a, \"is of type\", type(a))\n",
    "\n",
    "a = 2.0\n",
    "print(a, \"is of type\", type(a))\n",
    "\n",
    "a = 1+2j\n",
    "print(a, \"is complex number?\", isinstance(1+2j,complex))"
   ]
  },
  {
   "cell_type": "code",
   "execution_count": 21,
   "metadata": {},
   "outputs": [
    {
     "name": "stdout",
     "output_type": "stream",
     "text": [
      "Subtraction of two complex number= (2-7j)\n"
     ]
    }
   ],
   "source": [
    "# 1. substraction og complex numbers\n",
    "complexno = 3 + 7j\n",
    "complexno1 = 1 + 14j\n",
    "print('Subtraction of two complex number=', complexno - complexno1)"
   ]
  },
  {
   "cell_type": "code",
   "execution_count": 17,
   "metadata": {},
   "outputs": [
    {
     "name": "stdout",
     "output_type": "stream",
     "text": [
      "[-1.86120972e+00+0.j         -2.22044605e-16+1.86120972j\n",
      " -2.22044605e-16-1.86120972j  1.86120972e+00+0.j        ]\n"
     ]
    }
   ],
   "source": [
    "def root(n, r=4):\n",
    "    from numpy import roots\n",
    "    return roots([1]+[0]*(r-1)+[-n])\n",
    "\n",
    "print(root(12))"
   ]
  },
  {
   "cell_type": "code",
   "execution_count": 22,
   "metadata": {},
   "outputs": [
    {
     "name": "stdout",
     "output_type": "stream",
     "text": [
      "[-1.86120972e+00+0.j         -2.22044605e-16+1.86120972j\n",
      " -2.22044605e-16-1.86120972j  1.86120972e+00+0.j        ]\n"
     ]
    }
   ],
   "source": [
    "# 2.fourth root of a number\n",
    "def root(n, r=4):\n",
    "    from numpy import roots\n",
    "    return roots([1]+[0]*(r-1)+[-n])\n",
    "\n",
    "print(root(12))"
   ]
  },
  {
   "cell_type": "markdown",
   "metadata": {},
   "source": [
    "# 7. procedure to create githib and upload assignment\n",
    "firt we need to create github account and then we need to create a github public repo and name it as LetsUpgrade AL/ML, then upload the files of solution in repo on daily basis.\n",
    "then copy the URL of the folder of the day and paste it in the assignment form before respective sunday 11:59 of that week."
   ]
  }
 ],
 "metadata": {
  "kernelspec": {
   "display_name": "Python 3",
   "language": "python",
   "name": "python3"
  },
  "language_info": {
   "codemirror_mode": {
    "name": "ipython",
    "version": 3
   },
   "file_extension": ".py",
   "mimetype": "text/x-python",
   "name": "python",
   "nbconvert_exporter": "python",
   "pygments_lexer": "ipython3",
   "version": "3.7.4"
  }
 },
 "nbformat": 4,
 "nbformat_minor": 2
}
